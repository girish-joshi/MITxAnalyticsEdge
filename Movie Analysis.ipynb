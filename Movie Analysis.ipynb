{
 "cells": [
  {
   "cell_type": "code",
   "execution_count": 1,
   "metadata": {
    "collapsed": true
   },
   "outputs": [],
   "source": [
    "import pandas as pd"
   ]
  },
  {
   "cell_type": "code",
   "execution_count": 3,
   "metadata": {
    "collapsed": true
   },
   "outputs": [],
   "source": [
    "movies = pd.read_csv(\"./movielens/movies.csv\", sep=',')\n",
    "#ratings = pd.read_csv(\"./movielens/ratings.csv\", sep=',', nrows=1000000)\n",
    "ratings = pd.read_csv(\"./movielens/ratings.csv\", sep=',')"
   ]
  },
  {
   "cell_type": "code",
   "execution_count": null,
   "metadata": {
    "collapsed": true
   },
   "outputs": [],
   "source": [
    "#movies.isnull().any()\n",
    "#movies.head()\n",
    "#yr=list()\n",
    "#yr = movies['title'].str.extract(\".*\\(.*([0-9][0-9][0-9][0-9].*)\\).*\",expand = True)\n",
    "#yr['year'] = movies['title'].str.extract(\".*\\((.*)\\).*\",expand = True)\n",
    "#yr.head()\n",
    "#yr.rename(columns={0:\"Year\"})\n",
    "\n",
    "#movies['Year'].describe()\n",
    "#movies.shape\n",
    "#movies.groupby('Year').count()\n",
    "#tmp_genres.size\n",
    "#movies.iloc[10594]\n",
    "#tmp_genres.iloc[10593]\n",
    "#movies[movies['Year']<1920].loc['Decade']=1910\n",
    "#movies.shape\n",
    "#total = movies['genres'].str.contains(genre_list[4]).sum()\n",
    "#genre_list[4] , total\n",
    "\n"
   ]
  },
  {
   "cell_type": "code",
   "execution_count": 4,
   "metadata": {
    "collapsed": true
   },
   "outputs": [],
   "source": [
    "movies['Year']=movies['title'].str.extract(\".*\\(.*([0-9][0-9][0-9][0-9]).*\\).*\",expand = True)\n",
    "movies = movies[movies['Year'].notnull()]\n",
    "movies['Year']=movies['Year'].astype('int32')\n",
    "movies['Decade']=movies['Year']//10*10"
   ]
  },
  {
   "cell_type": "code",
   "execution_count": 5,
   "metadata": {
    "collapsed": true
   },
   "outputs": [],
   "source": [
    "tmp_genres = movies['genres'].str.split('|')"
   ]
  },
  {
   "cell_type": "code",
   "execution_count": 6,
   "metadata": {
    "collapsed": true
   },
   "outputs": [],
   "source": [
    "genre_set = set()"
   ]
  },
  {
   "cell_type": "code",
   "execution_count": 7,
   "metadata": {
    "collapsed": true
   },
   "outputs": [],
   "source": [
    "for i in range(tmp_genres.size):\n",
    "    tmp_genre_at_i = tmp_genres.iloc[i]\n",
    "    #if tmp_genre_at_i != \"(no genres listed)\":\n",
    "    genre_set.update(tmp_genre_at_i)\n",
    "    #print(tmp_genre_at_i,len(tmp_genre_at_i))\n",
    "genre_set.remove(\"(no genres listed)\")"
   ]
  },
  {
   "cell_type": "code",
   "execution_count": 8,
   "metadata": {
    "collapsed": true
   },
   "outputs": [],
   "source": [
    "genre_list = list(genre_set)"
   ]
  },
  {
   "cell_type": "code",
   "execution_count": 9,
   "metadata": {
    "collapsed": true
   },
   "outputs": [],
   "source": [
    "genre_count = pd.Series()"
   ]
  },
  {
   "cell_type": "code",
   "execution_count": 10,
   "metadata": {
    "collapsed": true
   },
   "outputs": [],
   "source": [
    "for i in range(len(genre_list)):\n",
    "    total = movies['genres'].str.contains(genre_list[i]).sum()\n",
    "    genre_count[genre_list[i]] = total"
   ]
  },
  {
   "cell_type": "code",
   "execution_count": 11,
   "metadata": {
    "collapsed": true
   },
   "outputs": [],
   "source": [
    "movie_rating = pd.merge(movies, ratings, how='inner', on='movieId')"
   ]
  },
  {
   "cell_type": "code",
   "execution_count": null,
   "metadata": {},
   "outputs": [],
   "source": [
    "movie_rating[movie_rating['genres'].str.contains('Drama')].groupby('Year').mean()['rating']"
   ]
  },
  {
   "cell_type": "code",
   "execution_count": null,
   "metadata": {
    "scrolled": true
   },
   "outputs": [],
   "source": [
    "movies[(movies['Year']<1920) & (movies['Year']>1860)].groupby('Year').count()"
   ]
  },
  {
   "cell_type": "code",
   "execution_count": null,
   "metadata": {},
   "outputs": [],
   "source": [
    "movie_rating[(movie_rating['Year']<1970) & (movie_rating['Year']>1960)].groupby('Year').mean()['rating']"
   ]
  },
  {
   "cell_type": "code",
   "execution_count": 12,
   "metadata": {},
   "outputs": [
    {
     "data": {
      "text/html": [
       "<div>\n",
       "<style>\n",
       "    .dataframe thead tr:only-child th {\n",
       "        text-align: right;\n",
       "    }\n",
       "\n",
       "    .dataframe thead th {\n",
       "        text-align: left;\n",
       "    }\n",
       "\n",
       "    .dataframe tbody tr th {\n",
       "        vertical-align: top;\n",
       "    }\n",
       "</style>\n",
       "<table border=\"1\" class=\"dataframe\">\n",
       "  <thead>\n",
       "    <tr style=\"text-align: right;\">\n",
       "      <th></th>\n",
       "    </tr>\n",
       "  </thead>\n",
       "  <tbody>\n",
       "  </tbody>\n",
       "</table>\n",
       "</div>"
      ],
      "text/plain": [
       "Empty DataFrame\n",
       "Columns: []\n",
       "Index: []"
      ]
     },
     "execution_count": 12,
     "metadata": {},
     "output_type": "execute_result"
    }
   ],
   "source": [
    "\n",
    "output_dataframe = pd.DataFrame()\n",
    "output_dataframe\n"
   ]
  },
  {
   "cell_type": "code",
   "execution_count": null,
   "metadata": {},
   "outputs": [],
   "source": [
    "tmp_dict = {'Decade': 1930, 'genre': 'Action', 'Average Rating' : 3.456}\n",
    "output_dataframe.loc[len(output_dataframe)]= tmp_dict\n",
    "output_dataframe"
   ]
  },
  {
   "cell_type": "code",
   "execution_count": null,
   "metadata": {
    "collapsed": true
   },
   "outputs": [],
   "source": [
    "genre_df = movie_rating[movie_rating['genres'].str.contains('Action')]\n",
    "#tmp_df=pd.DataFrame({'Action' : genre_df.groupby('Decade').mean()['rating']})\n",
    "tmp_df=genre_df.groupby('Decade').mean()['rating']\n",
    "#tmp_df\n",
    "output_dataframe['Action'] = tmp_df\n",
    "genre_df = movie_rating[movie_rating['genres'].str.contains('Comedy')]\n",
    "tmp_df=genre_df.groupby('Decade').mean()['rating']\n",
    "output_dataframe['Comedy'] = tmp_df\n"
   ]
  },
  {
   "cell_type": "code",
   "execution_count": null,
   "metadata": {},
   "outputs": [],
   "source": [
    "output_dataframe"
   ]
  },
  {
   "cell_type": "code",
   "execution_count": 13,
   "metadata": {
    "collapsed": true
   },
   "outputs": [],
   "source": [
    "#movie_rating.groupby(['Decade']).mean()['rating']\n",
    "\n",
    "output_dataframe = pd.DataFrame()\n",
    "for i in range(len(genre_list)):\n",
    "    genre_df = movie_rating[movie_rating['genres'].str.contains(genre_list[i])]\n",
    "    tmp_df=genre_df.groupby('Decade').mean()['rating']\n",
    "    output_dataframe[genre_list[i]] = tmp_df\n",
    "output_dataframe = output_dataframe.transpose()"
   ]
  },
  {
   "cell_type": "code",
   "execution_count": 34,
   "metadata": {},
   "outputs": [
    {
     "data": {
      "text/html": [
       "<div>\n",
       "<style>\n",
       "    .dataframe thead tr:only-child th {\n",
       "        text-align: right;\n",
       "    }\n",
       "\n",
       "    .dataframe thead th {\n",
       "        text-align: left;\n",
       "    }\n",
       "\n",
       "    .dataframe tbody tr th {\n",
       "        vertical-align: top;\n",
       "    }\n",
       "</style>\n",
       "<table border=\"1\" class=\"dataframe\">\n",
       "  <thead>\n",
       "    <tr style=\"text-align: right;\">\n",
       "      <th>Decade</th>\n",
       "      <th>1910</th>\n",
       "      <th>1920</th>\n",
       "      <th>1930</th>\n",
       "      <th>1940</th>\n",
       "      <th>1950</th>\n",
       "      <th>1960</th>\n",
       "      <th>1970</th>\n",
       "      <th>1980</th>\n",
       "      <th>1990</th>\n",
       "      <th>2000</th>\n",
       "      <th>2010</th>\n",
       "    </tr>\n",
       "  </thead>\n",
       "  <tbody>\n",
       "    <tr>\n",
       "      <th>Mystery</th>\n",
       "      <td>2.833333</td>\n",
       "      <td>3.515544</td>\n",
       "      <td>3.956560</td>\n",
       "      <td>4.094124</td>\n",
       "      <td>4.102091</td>\n",
       "      <td>3.806816</td>\n",
       "      <td>3.762189</td>\n",
       "      <td>3.524586</td>\n",
       "      <td>3.602633</td>\n",
       "      <td>3.612255</td>\n",
       "      <td>3.770530</td>\n",
       "    </tr>\n",
       "    <tr>\n",
       "      <th>Thriller</th>\n",
       "      <td>3.437500</td>\n",
       "      <td>3.541322</td>\n",
       "      <td>3.958647</td>\n",
       "      <td>4.008699</td>\n",
       "      <td>4.074045</td>\n",
       "      <td>3.737672</td>\n",
       "      <td>3.710125</td>\n",
       "      <td>3.530392</td>\n",
       "      <td>3.465792</td>\n",
       "      <td>3.465566</td>\n",
       "      <td>3.557407</td>\n",
       "    </tr>\n",
       "    <tr>\n",
       "      <th>Film-Noir</th>\n",
       "      <td>NaN</td>\n",
       "      <td>3.333333</td>\n",
       "      <td>4.142588</td>\n",
       "      <td>4.078925</td>\n",
       "      <td>4.072914</td>\n",
       "      <td>4.000000</td>\n",
       "      <td>4.169644</td>\n",
       "      <td>3.886028</td>\n",
       "      <td>3.845100</td>\n",
       "      <td>3.836541</td>\n",
       "      <td>3.741197</td>\n",
       "    </tr>\n",
       "    <tr>\n",
       "      <th>Crime</th>\n",
       "      <td>3.115385</td>\n",
       "      <td>3.805233</td>\n",
       "      <td>3.957099</td>\n",
       "      <td>3.999984</td>\n",
       "      <td>4.039983</td>\n",
       "      <td>3.908456</td>\n",
       "      <td>4.051897</td>\n",
       "      <td>3.502740</td>\n",
       "      <td>3.665960</td>\n",
       "      <td>3.602130</td>\n",
       "      <td>3.666294</td>\n",
       "    </tr>\n",
       "    <tr>\n",
       "      <th>Action</th>\n",
       "      <td>3.124031</td>\n",
       "      <td>3.754292</td>\n",
       "      <td>3.713432</td>\n",
       "      <td>3.941357</td>\n",
       "      <td>4.004176</td>\n",
       "      <td>3.838435</td>\n",
       "      <td>3.710699</td>\n",
       "      <td>3.618391</td>\n",
       "      <td>3.302531</td>\n",
       "      <td>3.444852</td>\n",
       "      <td>3.545387</td>\n",
       "    </tr>\n",
       "    <tr>\n",
       "      <th>War</th>\n",
       "      <td>3.234177</td>\n",
       "      <td>4.001551</td>\n",
       "      <td>3.897641</td>\n",
       "      <td>3.853396</td>\n",
       "      <td>3.993557</td>\n",
       "      <td>4.027752</td>\n",
       "      <td>3.917596</td>\n",
       "      <td>3.801398</td>\n",
       "      <td>3.814302</td>\n",
       "      <td>3.633436</td>\n",
       "      <td>3.495906</td>\n",
       "    </tr>\n",
       "    <tr>\n",
       "      <th>Drama</th>\n",
       "      <td>3.384797</td>\n",
       "      <td>3.824692</td>\n",
       "      <td>3.794822</td>\n",
       "      <td>3.953196</td>\n",
       "      <td>3.943135</td>\n",
       "      <td>3.890388</td>\n",
       "      <td>3.886954</td>\n",
       "      <td>3.663098</td>\n",
       "      <td>3.628041</td>\n",
       "      <td>3.627380</td>\n",
       "      <td>3.660362</td>\n",
       "    </tr>\n",
       "    <tr>\n",
       "      <th>Adventure</th>\n",
       "      <td>3.097633</td>\n",
       "      <td>3.828688</td>\n",
       "      <td>3.844582</td>\n",
       "      <td>3.819510</td>\n",
       "      <td>3.933136</td>\n",
       "      <td>3.786116</td>\n",
       "      <td>3.725116</td>\n",
       "      <td>3.592944</td>\n",
       "      <td>3.329979</td>\n",
       "      <td>3.535203</td>\n",
       "      <td>3.577679</td>\n",
       "    </tr>\n",
       "    <tr>\n",
       "      <th>Romance</th>\n",
       "      <td>3.455157</td>\n",
       "      <td>3.883018</td>\n",
       "      <td>3.891111</td>\n",
       "      <td>4.059667</td>\n",
       "      <td>3.923107</td>\n",
       "      <td>3.824836</td>\n",
       "      <td>3.684739</td>\n",
       "      <td>3.529217</td>\n",
       "      <td>3.464935</td>\n",
       "      <td>3.532958</td>\n",
       "      <td>3.506251</td>\n",
       "    </tr>\n",
       "    <tr>\n",
       "      <th>Comedy</th>\n",
       "      <td>3.429899</td>\n",
       "      <td>3.870466</td>\n",
       "      <td>3.993111</td>\n",
       "      <td>3.905407</td>\n",
       "      <td>3.834609</td>\n",
       "      <td>3.727605</td>\n",
       "      <td>3.754373</td>\n",
       "      <td>3.456659</td>\n",
       "      <td>3.365509</td>\n",
       "      <td>3.369716</td>\n",
       "      <td>3.486020</td>\n",
       "    </tr>\n",
       "    <tr>\n",
       "      <th>Documentary</th>\n",
       "      <td>NaN</td>\n",
       "      <td>3.824124</td>\n",
       "      <td>3.707934</td>\n",
       "      <td>3.374214</td>\n",
       "      <td>3.812649</td>\n",
       "      <td>3.791578</td>\n",
       "      <td>3.711018</td>\n",
       "      <td>3.854209</td>\n",
       "      <td>3.803222</td>\n",
       "      <td>3.682909</td>\n",
       "      <td>3.690081</td>\n",
       "    </tr>\n",
       "    <tr>\n",
       "      <th>Western</th>\n",
       "      <td>2.961538</td>\n",
       "      <td>3.561224</td>\n",
       "      <td>3.526272</td>\n",
       "      <td>3.883865</td>\n",
       "      <td>3.761739</td>\n",
       "      <td>3.947661</td>\n",
       "      <td>3.661615</td>\n",
       "      <td>3.396625</td>\n",
       "      <td>3.432079</td>\n",
       "      <td>3.487069</td>\n",
       "      <td>3.716128</td>\n",
       "    </tr>\n",
       "    <tr>\n",
       "      <th>Musical</th>\n",
       "      <td>NaN</td>\n",
       "      <td>3.422911</td>\n",
       "      <td>3.862731</td>\n",
       "      <td>3.593051</td>\n",
       "      <td>3.685106</td>\n",
       "      <td>3.675650</td>\n",
       "      <td>3.531787</td>\n",
       "      <td>3.393239</td>\n",
       "      <td>3.515670</td>\n",
       "      <td>3.492674</td>\n",
       "      <td>3.652738</td>\n",
       "    </tr>\n",
       "    <tr>\n",
       "      <th>Fantasy</th>\n",
       "      <td>3.277778</td>\n",
       "      <td>3.853340</td>\n",
       "      <td>3.779786</td>\n",
       "      <td>3.770638</td>\n",
       "      <td>3.632884</td>\n",
       "      <td>3.614348</td>\n",
       "      <td>3.768842</td>\n",
       "      <td>3.520496</td>\n",
       "      <td>3.343109</td>\n",
       "      <td>3.597385</td>\n",
       "      <td>3.530718</td>\n",
       "    </tr>\n",
       "    <tr>\n",
       "      <th>Animation</th>\n",
       "      <td>3.843750</td>\n",
       "      <td>3.449627</td>\n",
       "      <td>3.599989</td>\n",
       "      <td>3.558956</td>\n",
       "      <td>3.594166</td>\n",
       "      <td>3.592425</td>\n",
       "      <td>3.448955</td>\n",
       "      <td>3.630741</td>\n",
       "      <td>3.617448</td>\n",
       "      <td>3.635654</td>\n",
       "      <td>3.691141</td>\n",
       "    </tr>\n",
       "    <tr>\n",
       "      <th>Children</th>\n",
       "      <td>3.500000</td>\n",
       "      <td>3.452883</td>\n",
       "      <td>3.802611</td>\n",
       "      <td>3.545652</td>\n",
       "      <td>3.565977</td>\n",
       "      <td>3.501435</td>\n",
       "      <td>3.430354</td>\n",
       "      <td>3.480249</td>\n",
       "      <td>3.282660</td>\n",
       "      <td>3.484285</td>\n",
       "      <td>3.660522</td>\n",
       "    </tr>\n",
       "    <tr>\n",
       "      <th>Sci-Fi</th>\n",
       "      <td>3.275862</td>\n",
       "      <td>3.932651</td>\n",
       "      <td>3.738751</td>\n",
       "      <td>2.721338</td>\n",
       "      <td>3.459439</td>\n",
       "      <td>3.625976</td>\n",
       "      <td>3.703707</td>\n",
       "      <td>3.590451</td>\n",
       "      <td>3.282266</td>\n",
       "      <td>3.399462</td>\n",
       "      <td>3.614721</td>\n",
       "    </tr>\n",
       "    <tr>\n",
       "      <th>Horror</th>\n",
       "      <td>3.404255</td>\n",
       "      <td>3.848696</td>\n",
       "      <td>3.624523</td>\n",
       "      <td>3.300899</td>\n",
       "      <td>3.271881</td>\n",
       "      <td>3.723766</td>\n",
       "      <td>3.554313</td>\n",
       "      <td>3.238099</td>\n",
       "      <td>3.234696</td>\n",
       "      <td>3.161636</td>\n",
       "      <td>3.117943</td>\n",
       "    </tr>\n",
       "    <tr>\n",
       "      <th>IMAX</th>\n",
       "      <td>NaN</td>\n",
       "      <td>NaN</td>\n",
       "      <td>NaN</td>\n",
       "      <td>NaN</td>\n",
       "      <td>NaN</td>\n",
       "      <td>NaN</td>\n",
       "      <td>NaN</td>\n",
       "      <td>3.392857</td>\n",
       "      <td>3.773527</td>\n",
       "      <td>3.589519</td>\n",
       "      <td>3.661064</td>\n",
       "    </tr>\n",
       "  </tbody>\n",
       "</table>\n",
       "</div>"
      ],
      "text/plain": [
       "Decade           1910      1920      1930      1940      1950      1960  \\\n",
       "Mystery      2.833333  3.515544  3.956560  4.094124  4.102091  3.806816   \n",
       "Thriller     3.437500  3.541322  3.958647  4.008699  4.074045  3.737672   \n",
       "Film-Noir         NaN  3.333333  4.142588  4.078925  4.072914  4.000000   \n",
       "Crime        3.115385  3.805233  3.957099  3.999984  4.039983  3.908456   \n",
       "Action       3.124031  3.754292  3.713432  3.941357  4.004176  3.838435   \n",
       "War          3.234177  4.001551  3.897641  3.853396  3.993557  4.027752   \n",
       "Drama        3.384797  3.824692  3.794822  3.953196  3.943135  3.890388   \n",
       "Adventure    3.097633  3.828688  3.844582  3.819510  3.933136  3.786116   \n",
       "Romance      3.455157  3.883018  3.891111  4.059667  3.923107  3.824836   \n",
       "Comedy       3.429899  3.870466  3.993111  3.905407  3.834609  3.727605   \n",
       "Documentary       NaN  3.824124  3.707934  3.374214  3.812649  3.791578   \n",
       "Western      2.961538  3.561224  3.526272  3.883865  3.761739  3.947661   \n",
       "Musical           NaN  3.422911  3.862731  3.593051  3.685106  3.675650   \n",
       "Fantasy      3.277778  3.853340  3.779786  3.770638  3.632884  3.614348   \n",
       "Animation    3.843750  3.449627  3.599989  3.558956  3.594166  3.592425   \n",
       "Children     3.500000  3.452883  3.802611  3.545652  3.565977  3.501435   \n",
       "Sci-Fi       3.275862  3.932651  3.738751  2.721338  3.459439  3.625976   \n",
       "Horror       3.404255  3.848696  3.624523  3.300899  3.271881  3.723766   \n",
       "IMAX              NaN       NaN       NaN       NaN       NaN       NaN   \n",
       "\n",
       "Decade           1970      1980      1990      2000      2010  \n",
       "Mystery      3.762189  3.524586  3.602633  3.612255  3.770530  \n",
       "Thriller     3.710125  3.530392  3.465792  3.465566  3.557407  \n",
       "Film-Noir    4.169644  3.886028  3.845100  3.836541  3.741197  \n",
       "Crime        4.051897  3.502740  3.665960  3.602130  3.666294  \n",
       "Action       3.710699  3.618391  3.302531  3.444852  3.545387  \n",
       "War          3.917596  3.801398  3.814302  3.633436  3.495906  \n",
       "Drama        3.886954  3.663098  3.628041  3.627380  3.660362  \n",
       "Adventure    3.725116  3.592944  3.329979  3.535203  3.577679  \n",
       "Romance      3.684739  3.529217  3.464935  3.532958  3.506251  \n",
       "Comedy       3.754373  3.456659  3.365509  3.369716  3.486020  \n",
       "Documentary  3.711018  3.854209  3.803222  3.682909  3.690081  \n",
       "Western      3.661615  3.396625  3.432079  3.487069  3.716128  \n",
       "Musical      3.531787  3.393239  3.515670  3.492674  3.652738  \n",
       "Fantasy      3.768842  3.520496  3.343109  3.597385  3.530718  \n",
       "Animation    3.448955  3.630741  3.617448  3.635654  3.691141  \n",
       "Children     3.430354  3.480249  3.282660  3.484285  3.660522  \n",
       "Sci-Fi       3.703707  3.590451  3.282266  3.399462  3.614721  \n",
       "Horror       3.554313  3.238099  3.234696  3.161636  3.117943  \n",
       "IMAX              NaN  3.392857  3.773527  3.589519  3.661064  "
      ]
     },
     "execution_count": 34,
     "metadata": {},
     "output_type": "execute_result"
    }
   ],
   "source": [
    "tmp = output_dataframe.sort_values(1950, ascending=False)\n",
    "tmp"
   ]
  },
  {
   "cell_type": "code",
   "execution_count": 35,
   "metadata": {},
   "outputs": [
    {
     "data": {
      "text/plain": [
       "Index(['Mystery', 'Thriller', 'Film-Noir'], dtype='object')"
      ]
     },
     "execution_count": 35,
     "metadata": {},
     "output_type": "execute_result"
    }
   ],
   "source": [
    "tmp.index[0:3]"
   ]
  },
  {
   "cell_type": "code",
   "execution_count": null,
   "metadata": {},
   "outputs": [],
   "source": [
    "genre_df = movie_rating[movie_rating['genres'].str.contains('Action')]\n",
    "genre_df.groupby('Decade').mean()['rating']\n",
    "#genre_df.head()"
   ]
  }
 ],
 "metadata": {
  "kernelspec": {
   "display_name": "Python 3",
   "language": "python",
   "name": "python3"
  },
  "language_info": {
   "codemirror_mode": {
    "name": "ipython",
    "version": 3
   },
   "file_extension": ".py",
   "mimetype": "text/x-python",
   "name": "python",
   "nbconvert_exporter": "python",
   "pygments_lexer": "ipython3",
   "version": "3.6.1"
  }
 },
 "nbformat": 4,
 "nbformat_minor": 2
}
