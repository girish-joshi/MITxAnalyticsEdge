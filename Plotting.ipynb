{
 "cells": [
  {
   "cell_type": "code",
   "execution_count": 27,
   "metadata": {
    "collapsed": true
   },
   "outputs": [],
   "source": [
    "import matplotlib.pyplot as plt\n",
    "import numpy as np\n",
    "import pandas as pd"
   ]
  },
  {
   "cell_type": "code",
   "execution_count": 9,
   "metadata": {
    "collapsed": true
   },
   "outputs": [],
   "source": [
    "N = 5\n",
    "# Scores for 1950, 1960, 1970, 1980, 1990\n",
    "Decades = (1950, 1960, 1970, 1980, 1990)\n",
    "top_score = (4.09, 4.05, 4.166, 3.86, 3.845)\n",
    "second_score = (4.061, 3.98, 4.06, 3.84, 3.815)\n",
    "third_score = (4.058, 3.94, 3.99, 3.81, 3.812)\n",
    "\n",
    "top_score_bar = (3, 3, 3, 3, 3)\n",
    "second_score_bar = (2, 2, 2, 2, 2)\n",
    "third_score_bar = (1, 1, 1, 1, 1)\n",
    "\n",
    "top_genre = ('Mystery', 'War', 'Film-Noir', 'Documentary', 'Film-Noir')\n",
    "second_genre = ('Film-Noir', 'Documentary', 'Crime', 'Film-Noir', 'War')\n",
    "third_genre = ('Thriller', 'Western', 'War', 'War', 'Documentary')"
   ]
  },
  {
   "cell_type": "code",
   "execution_count": 40,
   "metadata": {
    "collapsed": true
   },
   "outputs": [],
   "source": [
    "ind = np.arange(N)  # the x locations for the groups\n",
    "width = 0.25       # the width of the bars"
   ]
  },
  {
   "cell_type": "code",
   "execution_count": 55,
   "metadata": {
    "collapsed": true
   },
   "outputs": [],
   "source": [
    "fig, ax = plt.subplots(figsize=(15,10))\n",
    "rects2 = ax.bar(ind, second_score_bar, width, color='r')\n",
    "rects1 = ax.bar(ind+width, top_score_bar, width, color='b')\n",
    "rects3 = ax.bar(ind+width*2, third_score_bar, width, color='g')\n"
   ]
  },
  {
   "cell_type": "code",
   "execution_count": 56,
   "metadata": {},
   "outputs": [
    {
     "data": {
      "text/plain": [
       "array([ 15.,  10.])"
      ]
     },
     "execution_count": 56,
     "metadata": {},
     "output_type": "execute_result"
    }
   ],
   "source": [
    "fig.get_size_inches()\n",
    "#fig = Figure(figsize=(12,8))\n",
    "fig.get_size_inches()"
   ]
  },
  {
   "cell_type": "code",
   "execution_count": 57,
   "metadata": {
    "collapsed": true
   },
   "outputs": [],
   "source": [
    "#women_means = (25, 32, 34, 20, 25)\n",
    "#rects2 = ax.bar(ind + width, women_means, width, color='y')"
   ]
  },
  {
   "cell_type": "code",
   "execution_count": 58,
   "metadata": {},
   "outputs": [
    {
     "data": {
      "text/plain": [
       "<matplotlib.legend.Legend at 0x8dc8be0>"
      ]
     },
     "execution_count": 58,
     "metadata": {},
     "output_type": "execute_result"
    }
   ],
   "source": [
    "# add some text for labels, title and axes ticks\n",
    "ax.set_ylabel('Scores')\n",
    "ax.set_title('Top Genres in Decades ')\n",
    "ax.set_xticks(ind + width / 2)\n",
    "#ax.set_xticklabels(('G1', 'G2', 'G3', 'G4', 'G5'))\n",
    "ax.set_xticklabels(Decades)\n",
    "\n",
    "ax.legend((rects1[0], rects2[0], rects3[0]), ('Top', 'Second', 'Third'))"
   ]
  },
  {
   "cell_type": "code",
   "execution_count": 59,
   "metadata": {
    "collapsed": true
   },
   "outputs": [],
   "source": [
    "def autolabel(rects, lables):\n",
    "    \"\"\"\n",
    "    Attach a text label above each bar displaying its height\n",
    "    \"\"\"\n",
    "    for (rect, l) in zip(rects, lables):\n",
    "        height = rect.get_height()\n",
    "        #ax.text(rect.get_x() + rect.get_width()/2., 0.95*height,\n",
    "        #        '%d' % int(height),\n",
    "        #        ha='center', va='bottom')\n",
    "        ax.text(rect.get_x() + rect.get_width()/2., 1.02*height,\n",
    "                '%s' % l,\n",
    "                ha='center', va='bottom')\n",
    "\n",
    "        \n",
    "autolabel(rects1, top_genre)\n",
    "autolabel(rects2, second_genre)\n",
    "autolabel(rects3, third_genre)"
   ]
  },
  {
   "cell_type": "code",
   "execution_count": 60,
   "metadata": {},
   "outputs": [
    {
     "data": {
      "image/png": "[encoded data removed]",
      "text/plain": [
       "<matplotlib.figure.Figure at 0x8d0c6a0>"
      ]
     },
     "metadata": {},
     "output_type": "display_data"
    }
   ],
   "source": [
    "plt.show()"
   ]
  },
  {
   "cell_type": "code",
   "execution_count": 2,
   "metadata": {},
   "outputs": [
    {
     "name": "stdout",
     "output_type": "stream",
     "text": [
      "[ 1.  1.  1.  1.  1.]\n"
     ]
    }
   ],
   "source": [
    "import numpy as np\n",
    "import matplotlib.pyplot as plt\n",
    "from matplotlib.lines import Line2D\n",
    "\n",
    "\n",
    "points = np.ones(5)  # Draw 3 points for each line\n",
    "print (points)"
   ]
  },
  {
   "cell_type": "code",
   "execution_count": 3,
   "metadata": {},
   "outputs": [
    {
     "name": "stdout",
     "output_type": "stream",
     "text": [
      "{'horizontalalignment': 'right', 'verticalalignment': 'center', 'fontsize': 12, 'fontdict': {'family': 'monospace'}}\n",
      "{'color': 'cornflowerblue', 'linestyle': ':', 'marker': 'o', 'markersize': 15, 'markerfacecoloralt': 'gray'}\n"
     ]
    }
   ],
   "source": [
    "text_style = dict(horizontalalignment='right', verticalalignment='center',\n",
    "                  fontsize=12, fontdict={'family': 'monospace'})\n",
    "marker_style = dict(color='cornflowerblue', linestyle=':', marker='o',\n",
    "                    markersize=15, markerfacecoloralt='gray')\n",
    "\n",
    "print (text_style)\n",
    "print (marker_style)\n",
    "\n",
    "\n",
    "def format_axes(ax):\n",
    "    ax.margins(0.2)\n",
    "    ax.set_axis_off()\n",
    "\n",
    "\n",
    "def nice_repr(text):\n",
    "    return repr(text).lstrip('u')\n",
    "\n",
    "\n"
   ]
  },
  {
   "cell_type": "code",
   "execution_count": 8,
   "metadata": {},
   "outputs": [
    {
     "name": "stdout",
     "output_type": "stream",
     "text": [
      "<enumerate object at 0x00000000080EE948>\n",
      "('full', 'left', 'right', 'bottom', 'top', 'none')\n"
     ]
    }
   ],
   "source": [
    "print(enumerate(Line2D.fillStyles))\n",
    "print(Line2D.fillStyles)\n"
   ]
  },
  {
   "cell_type": "code",
   "execution_count": 5,
   "metadata": {},
   "outputs": [
    {
     "data": {
      "image/png": "[encoded data removed]",
      "text/plain": [
       "<matplotlib.figure.Figure at 0x8544748>"
      ]
     },
     "metadata": {},
     "output_type": "display_data"
    }
   ],
   "source": [
    "fig, ax = plt.subplots()\n",
    "\n",
    "# Plot all fill styles.\n",
    "for y, fill_style in enumerate(Line2D.fillStyles):\n",
    "    ax.text(-0.5, y, nice_repr(fill_style), **text_style)\n",
    "    ax.plot(y * points, fillstyle=fill_style, **marker_style)\n",
    "    format_axes(ax)\n",
    "    ax.set_title('fill style')\n",
    "\n",
    "plt.show()"
   ]
  },
  {
   "cell_type": "code",
   "execution_count": 1,
   "metadata": {},
   "outputs": [
    {
     "data": {
      "text/plain": [
       "<matplotlib.patches.Circle at 0x5015c88>"
      ]
     },
     "execution_count": 1,
     "metadata": {},
     "output_type": "execute_result"
    }
   ],
   "source": [
    "import matplotlib.pyplot as plt\n"
   ]
  },
  {
   "cell_type": "code",
   "execution_count": 26,
   "metadata": {},
   "outputs": [
    {
     "data": {
      "image/png": "[encoded data removed]",
      "text/plain": [
       "<matplotlib.figure.Figure at 0x9bebbe0>"
      ]
     },
     "metadata": {},
     "output_type": "display_data"
    }
   ],
   "source": [
    "\n",
    "\n",
    "circle1=plt.Circle((0,5),3,color='r', fill=False)\n",
    "circle2=plt.Circle((0,-10),3,color='black', fill=False)\n",
    "#plt.gcf().gca().add_artist(circle1)\n",
    "fig = plt.gcf()\n",
    "ax = fig.gca()\n",
    "ax.set_xlim((-25, 20))\n",
    "ax.set_ylim((-25, 20))\n",
    "ax.add_artist(circle1)\n",
    "ax.add_artist(circle2)\n",
    "ax.annotate('1',xy=(0,5))\n",
    "ax.set_axis_off()\n",
    "plt.show()"
   ]
  },
  {
   "cell_type": "code",
   "execution_count": null,
   "metadata": {
    "collapsed": true
   },
   "outputs": [],
   "source": [
    "\n",
    "# Function to draw circles one below others\n",
    "# Parameters # of circles, array of numbers, starting x coordinate, \n",
    "def plot_circles(rankings, start_x):\n",
    "    \n",
    "    for i in ()\n",
    "    circle1=plt.Circle((0,5),3,color='r', fill=False)\n",
    "    \n",
    "    \n",
    "    \n"
   ]
  },
  {
   "cell_type": "code",
   "execution_count": 127,
   "metadata": {},
   "outputs": [],
   "source": [
    "s = pd.Series([0 , 0 , 1, 0 , 0 , 2, 0, 0, 0, 0, 3, 0, 0, 0])\n",
    "s1 = pd.Series([0 , 0 , 0, 3 , 0 , 0, 0, 0, 2, 0, 0, 0, 1, 0])\n",
    "s2 = pd.Series([0 , 3 , 0, 0 , 0 , 2, 0, 1, 0, 0, 0, 0, 0, 0])\n",
    "len(s)\n",
    "genres = pd.Series(['Mystery',\n",
    "                    'Thriller',\n",
    "                    'Film-Noir',\n",
    "                    'Crime',\n",
    "                    'Action',\n",
    "                    'War',\n",
    "                    'Drama',\n",
    "                    'Adventure',\n",
    "                    'Romance',\n",
    "                    'Comedy',\n",
    "                    'Documentary',\n",
    "                    'Western',\n",
    "                    'Musical',\n",
    "                    'Fantasy',\n",
    "                    'Animation',\n",
    "                    'Children',\n",
    "                    'Sci-Fi',\n",
    "                    'Horror',\n",
    "                    'IMAX'])"
   ]
  },
  {
   "cell_type": "code",
   "execution_count": 175,
   "metadata": {},
   "outputs": [],
   "source": [
    "fig = plt.gcf()\n",
    "ax = fig.gca()\n",
    "ax.set_xlim((-5, 20))\n",
    "ax.set_ylim((-200, 0))\n",
    "fig.set_size_inches([5,20])"
   ]
  },
  {
   "cell_type": "code",
   "execution_count": 176,
   "metadata": {
    "collapsed": true
   },
   "outputs": [],
   "source": [
    "y = -5\n",
    "start_x = -5\n",
    "for elm in genres:\n",
    "    ax.annotate(elm,xy=(start_x,y-0.5))\n",
    "    y -= 10"
   ]
  },
  {
   "cell_type": "code",
   "execution_count": 177,
   "metadata": {},
   "outputs": [],
   "source": [
    "radius = 1.5\n",
    "y = -5\n",
    "start_x = 4\n",
    "ax.annotate('1910',xy=(start_x-0.5,0))\n",
    "for elm in s:\n",
    "    if elm == 0:\n",
    "        circle=plt.Circle((start_x,y),radius,color='black', fill=False)\n",
    "        ax.add_artist(circle)\n",
    "        ax.annotate('-',xy=(start_x,y-0.5))\n",
    "    if elm == 1:\n",
    "        circle=plt.Circle((start_x,y),radius,color='gold', fill=False)\n",
    "        ax.add_artist(circle)\n",
    "        ax.annotate('1',xy=(start_x,y-0.5))\n",
    "    if elm == 2:\n",
    "        circle=plt.Circle((start_x,y),radius,color='silver', fill=False)\n",
    "        ax.add_artist(circle)\n",
    "        ax.annotate('2',xy=(start_x,y-0.5))\n",
    "    if elm == 3:\n",
    "        circle=plt.Circle((start_x,y),radius,color='brown', fill=False)\n",
    "        ax.add_artist(circle)\n",
    "        ax.annotate('3',xy=(start_x,y-0.5))\n",
    "    y -= 10\n"
   ]
  },
  {
   "cell_type": "code",
   "execution_count": 178,
   "metadata": {},
   "outputs": [],
   "source": [
    "#radius = 2\n",
    "y = -5\n",
    "start_x = 10\n",
    "ax.annotate('1920',xy=(start_x-0.5,0))\n",
    "for elm in s1:\n",
    "    if elm == 0:\n",
    "        circle=plt.Circle((start_x,y),radius,color='black', fill=False)\n",
    "        ax.add_artist(circle)\n",
    "        ax.annotate('-',xy=(start_x,y-0.5))\n",
    "    if elm == 1:\n",
    "        circle=plt.Circle((start_x,y),radius,color='gold', fill=False)\n",
    "        ax.add_artist(circle)\n",
    "        ax.annotate('1',xy=(start_x,y-0.5))\n",
    "    if elm == 2:\n",
    "        circle=plt.Circle((start_x,y),radius,color='silver', fill=False)\n",
    "        ax.add_artist(circle)\n",
    "        ax.annotate('2',xy=(start_x,y-0.5))\n",
    "    if elm == 3:\n",
    "        circle=plt.Circle((start_x,y),radius,color='brown', fill=False)\n",
    "        ax.add_artist(circle)\n",
    "        ax.annotate('3',xy=(start_x,y-0.5))\n",
    "    y -= 10"
   ]
  },
  {
   "cell_type": "code",
   "execution_count": 179,
   "metadata": {
    "collapsed": true
   },
   "outputs": [],
   "source": [
    "#radius = 2\n",
    "y = -5\n",
    "start_x = 16\n",
    "ax.annotate('1930',xy=(start_x-0.5,0))\n",
    "for elm in s2:\n",
    "    if elm == 0:\n",
    "        circle=plt.Circle((start_x,y),radius,color='black', fill=False)\n",
    "        ax.add_artist(circle)\n",
    "        ax.annotate('-',xy=(start_x,y-0.5))\n",
    "    if elm == 1:\n",
    "        circle=plt.Circle((start_x,y),radius,color='gold', fill=False)\n",
    "        ax.add_artist(circle)\n",
    "        ax.annotate('1',xy=(start_x,y-0.5))\n",
    "    if elm == 2:\n",
    "        circle=plt.Circle((start_x,y),radius,color='silver', fill=False)\n",
    "        ax.add_artist(circle)\n",
    "        ax.annotate('2',xy=(start_x,y-0.5))\n",
    "    if elm == 3:\n",
    "        circle=plt.Circle((start_x,y),radius,color='brown', fill=False)\n",
    "        ax.add_artist(circle)\n",
    "        ax.annotate('3',xy=(start_x,y-0.5))\n",
    "    y -= 10"
   ]
  },
  {
   "cell_type": "code",
   "execution_count": 180,
   "metadata": {},
   "outputs": [
    {
     "data": {
      "image/png": "[encoded data removed]",
      "text/plain": [
       "<matplotlib.figure.Figure at 0x899f7f0>"
      ]
     },
     "metadata": {},
     "output_type": "display_data"
    }
   ],
   "source": [
    "ax.set_axis_off()\n",
    "plt.show()"
   ]
  },
  {
   "cell_type": "code",
   "execution_count": null,
   "metadata": {
    "collapsed": true
   },
   "outputs": [],
   "source": [
    "plot_circles(s, 10)"
   ]
  }
 ],
 "metadata": {
  "kernelspec": {
   "display_name": "Python 3",
   "language": "python",
   "name": "python3"
  },
  "language_info": {
   "codemirror_mode": {
    "name": "ipython",
    "version": 3
   },
   "file_extension": ".py",
   "mimetype": "text/x-python",
   "name": "python",
   "nbconvert_exporter": "python",
   "pygments_lexer": "ipython3",
   "version": "3.6.1"
  }
 },
 "nbformat": 4,
 "nbformat_minor": 2
}
