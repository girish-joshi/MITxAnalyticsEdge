{
 "cells": [
  {
   "cell_type": "code",
   "execution_count": 29,
   "metadata": {
    "collapsed": true
   },
   "outputs": [],
   "source": [
    "import matplotlib.pyplot as plt\n",
    "import numpy as np"
   ]
  },
  {
   "cell_type": "code",
   "execution_count": 68,
   "metadata": {
    "collapsed": true
   },
   "outputs": [],
   "source": [
    "N = 5\n",
    "# Scores for 1950, 1960, 1970, 1980, 1990\n",
    "Decades = (1950, 1960, 1970, 1980, 1990)\n",
    "top_score = (4.09, 4.05, 4.166, 3.86, 3.845)\n",
    "second_score = (4.061, 3.98, 4.06, 3.84, 3.815)\n",
    "third_score = (4.058, 3.94, 3.99, 3.81, 3.812)\n",
    "top_genre = ('Mystery', 'War', 'Film-Noir', 'Documentary', 'Film-Noir')\n",
    "second_genre = ('Film-Noir', 'Documentary', 'Crime', 'Film-Noir', 'War')\n",
    "third_genre = ('Thriller', 'Western', 'War', 'War', 'Documentary')"
   ]
  },
  {
   "cell_type": "code",
   "execution_count": 69,
   "metadata": {},
   "outputs": [],
   "source": [
    "ind = np.arange(N)  # the x locations for the groups\n",
    "width = 0.15       # the width of the bars"
   ]
  },
  {
   "cell_type": "code",
   "execution_count": 70,
   "metadata": {
    "collapsed": true
   },
   "outputs": [],
   "source": [
    "fig, ax = plt.subplots()\n",
    "rects2 = ax.bar(ind, second_score, width, color='r')\n",
    "rects1 = ax.bar(ind+width, top_score, width, color='b')\n",
    "rects3 = ax.bar(ind+width*2, third_score, width, color='g')\n"
   ]
  },
  {
   "cell_type": "code",
   "execution_count": 71,
   "metadata": {},
   "outputs": [],
   "source": [
    "#women_means = (25, 32, 34, 20, 25)\n",
    "#rects2 = ax.bar(ind + width, women_means, width, color='y')"
   ]
  },
  {
   "cell_type": "code",
   "execution_count": 72,
   "metadata": {},
   "outputs": [
    {
     "data": {
      "text/plain": [
       "<matplotlib.legend.Legend at 0x2c34dde6d30>"
      ]
     },
     "execution_count": 72,
     "metadata": {},
     "output_type": "execute_result"
    }
   ],
   "source": [
    "# add some text for labels, title and axes ticks\n",
    "ax.set_ylabel('Scores')\n",
    "ax.set_title('Top Genres in Decades ')\n",
    "ax.set_xticks(ind + width / 2)\n",
    "#ax.set_xticklabels(('G1', 'G2', 'G3', 'G4', 'G5'))\n",
    "ax.set_xticklabels(Decades)\n",
    "\n",
    "ax.legend((rects1[0], rects2[0], rects3[0]), ('Top', 'Second', 'Third'))"
   ]
  },
  {
   "cell_type": "code",
   "execution_count": 76,
   "metadata": {},
   "outputs": [],
   "source": [
    "def autolabel(rects, lables):\n",
    "    \"\"\"\n",
    "    Attach a text label above each bar displaying its height\n",
    "    \"\"\"\n",
    "    for (rect, l) in zip(rects, lables):\n",
    "        height = rect.get_height()\n",
    "        #ax.text(rect.get_x() + rect.get_width()/2., 0.95*height,\n",
    "        #        '%d' % int(height),\n",
    "        #        ha='center', va='bottom')\n",
    "        ax.text(rect.get_x() + rect.get_width()/2., 1.05*height,\n",
    "                '%s' % l,\n",
    "                ha='center', va='bottom')\n",
    "\n",
    "        \n",
    "autolabel(rects1, top_genre)\n",
    "autolabel(rects2, second_genre)\n",
    "autolabel(rects3, third_genre)"
   ]
  },
  {
   "cell_type": "code",
   "execution_count": 77,
   "metadata": {},
   "outputs": [
    {
     "data": {
      "image/png": "[encoded data removed]",
      "text/plain": [
       "<matplotlib.figure.Figure at 0x2c34dcd3080>"
      ]
     },
     "metadata": {},
     "output_type": "display_data"
    }
   ],
   "source": [
    "plt.show()"
   ]
  },
  {
   "cell_type": "code",
   "execution_count": null,
   "metadata": {
    "collapsed": true
   },
   "outputs": [],
   "source": []
  }
 ],
 "metadata": {
  "kernelspec": {
   "display_name": "Python 3",
   "language": "python",
   "name": "python3"
  },
  "language_info": {
   "codemirror_mode": {
    "name": "ipython",
    "version": 3
   },
   "file_extension": ".py",
   "mimetype": "text/x-python",
   "name": "python",
   "nbconvert_exporter": "python",
   "pygments_lexer": "ipython3",
   "version": "3.6.1"
  }
 },
 "nbformat": 4,
 "nbformat_minor": 2
}
